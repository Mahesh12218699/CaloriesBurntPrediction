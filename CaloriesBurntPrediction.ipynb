{
  "nbformat": 4,
  "nbformat_minor": 0,
  "metadata": {
    "colab": {
      "private_outputs": true,
      "provenance": []
    },
    "kernelspec": {
      "name": "python3",
      "display_name": "Python 3"
    },
    "language_info": {
      "name": "python"
    }
  },
  "cells": [
    {
      "cell_type": "code",
      "execution_count": null,
      "metadata": {
        "id": "MNLAuBF6aIsM"
      },
      "outputs": [],
      "source": [
        "import numpy as np\n",
        "import pandas as pd\n",
        "import matplotlib.pyplot as plt\n",
        "import seaborn as sns\n",
        "from sklearn.model_selection import train_test_split\n",
        "from sklearn.linear_model import LogisticRegression\n",
        "from sklearn.preprocessing import LabelEncoder,StandardScaler\n",
        "from sklearn import metrics\n",
        "from xgboost import XGBRegressor\n",
        "from sklearn.linear_model import LinearRegression, Lasso, Ridge\n",
        "from sklearn.ensemble import RandomForestRegressor\n",
        "import warnings\n",
        "warnings.filterwarnings('ignore')"
      ]
    },
    {
      "cell_type": "code",
      "source": [
        "df1=pd.read_csv('calories.csv')\n",
        "df2=pd.read_csv('exercise.csv')\n",
        "data=pd.merge(df1,df2,how=\"outer\")"
      ],
      "metadata": {
        "id": "dr4oHTq3bMCG"
      },
      "execution_count": null,
      "outputs": []
    },
    {
      "cell_type": "code",
      "source": [
        "data.head()"
      ],
      "metadata": {
        "id": "ojfBmVKkbjtr"
      },
      "execution_count": null,
      "outputs": []
    },
    {
      "cell_type": "code",
      "source": [
        "data.shape"
      ],
      "metadata": {
        "id": "Z0fW5OmbcWZN"
      },
      "execution_count": null,
      "outputs": []
    },
    {
      "cell_type": "code",
      "source": [
        "data.info()"
      ],
      "metadata": {
        "id": "do78jyMEchi_"
      },
      "execution_count": null,
      "outputs": []
    },
    {
      "cell_type": "code",
      "source": [
        "data.isnull().sum()"
      ],
      "metadata": {
        "id": "qGGm8SY4cltp"
      },
      "execution_count": null,
      "outputs": []
    },
    {
      "cell_type": "code",
      "source": [
        "import seaborn as sns\n",
        "import matplotlib.pyplot as plt\n",
        "\n",
        "sns.scatterplot(x='Height', y='Weight', data=data)  # Specify x and y columns within the function\n",
        "plt.show()"
      ],
      "metadata": {
        "id": "uvwcIWILcpaX"
      },
      "execution_count": null,
      "outputs": []
    },
    {
      "cell_type": "code",
      "source": [
        "import seaborn as sns\n",
        "import matplotlib.pyplot as plt\n",
        "\n",
        "features = ['Age', 'Height', 'Weight', 'Duration']\n",
        "\n",
        "plt.subplots(figsize=(15, 10))\n",
        "for i, col in enumerate(features):\n",
        "    plt.subplot(2, 2, i + 1)\n",
        "    x = data.sample(1000)\n",
        "    sns.scatterplot(x=x[col], y=x['Calories']) # Pass x and y as keyword arguments\n",
        "plt.tight_layout()\n",
        "plt.show()"
      ],
      "metadata": {
        "id": "O7x0uXF_deO3"
      },
      "execution_count": null,
      "outputs": []
    },
    {
      "cell_type": "code",
      "source": [
        "features = data.select_dtypes(include='float').columns\n",
        "\n",
        "plt.subplots(figsize=(15, 10))\n",
        "for i, col in enumerate(features):\n",
        "    plt.subplot(2, 3, i + 1)\n",
        "    sns.distplot(data[col])\n",
        "plt.tight_layout()\n",
        "plt.show()"
      ],
      "metadata": {
        "id": "BfbB-2fgeAAl"
      },
      "execution_count": null,
      "outputs": []
    },
    {
      "cell_type": "code",
      "source": [
        "data.replace({'male':0,'female':1},inplace=True)\n",
        "data.head()"
      ],
      "metadata": {
        "id": "fEsPd4dKeQzh"
      },
      "execution_count": null,
      "outputs": []
    },
    {
      "cell_type": "code",
      "source": [
        "plt.figure(figsize=(8, 8))\n",
        "sns.heatmap(data.corr() > 0.9,\n",
        "           annot=True,\n",
        "           cbar=False)\n",
        "plt.show()"
      ],
      "metadata": {
        "id": "MqgCYecCeu6t"
      },
      "execution_count": null,
      "outputs": []
    },
    {
      "cell_type": "code",
      "source": [
        "to_remove = ['Weight', 'Duration']\n",
        "data.drop(to_remove, axis=1, inplace=True)"
      ],
      "metadata": {
        "id": "hzCp7X4ffRxM"
      },
      "execution_count": null,
      "outputs": []
    },
    {
      "cell_type": "code",
      "source": [
        "data"
      ],
      "metadata": {
        "id": "wdUxeuaPfY4C"
      },
      "execution_count": null,
      "outputs": []
    },
    {
      "cell_type": "code",
      "source": [
        "features = data.drop(['User_ID', 'Calories'], axis=1)\n",
        "target = data['Calories'].values\n",
        "\n",
        "X_train, X_val,\\\n",
        "    Y_train, Y_val = train_test_split(features, target,\n",
        "                                      test_size=0.1,\n",
        "                                      random_state=22)\n",
        "X_train.shape, X_val.shape"
      ],
      "metadata": {
        "id": "Qrw4DVvufbU0"
      },
      "execution_count": null,
      "outputs": []
    },
    {
      "cell_type": "code",
      "source": [
        "# Normalizing the features for stable and fast training.\n",
        "scaler = StandardScaler()\n",
        "X_train = scaler.fit_transform(X_train)\n",
        "X_val = scaler.transform(X_val)"
      ],
      "metadata": {
        "id": "q7KXdVUQfjdX"
      },
      "execution_count": null,
      "outputs": []
    },
    {
      "cell_type": "code",
      "source": [
        "from sklearn.metrics import mean_absolute_error as mae\n",
        "models = [LinearRegression(), XGBRegressor(),\n",
        "          Lasso(), RandomForestRegressor(), Ridge()]\n",
        "\n",
        "for i in range(5):\n",
        "    models[i].fit(X_train, Y_train)\n",
        "\n",
        "    print(f'{models[i]} : ')\n",
        "\n",
        "    train_preds = models[i].predict(X_train)\n",
        "    print('Training Error : ', mae(Y_train, train_preds))\n",
        "\n",
        "    val_preds = models[i].predict(X_val)\n",
        "    print('Validation Error : ', mae(Y_val, val_preds))\n",
        "    print()"
      ],
      "metadata": {
        "id": "ePDeoTlofnb0"
      },
      "execution_count": null,
      "outputs": []
    },
    {
      "cell_type": "code",
      "source": [],
      "metadata": {
        "id": "sbQ5GmSRfxcH"
      },
      "execution_count": null,
      "outputs": []
    },
    {
      "cell_type": "code",
      "source": [],
      "metadata": {
        "id": "ayoSQxpIftPM"
      },
      "execution_count": null,
      "outputs": []
    }
  ]
}